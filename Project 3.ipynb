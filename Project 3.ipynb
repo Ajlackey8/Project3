{
 "cells": [
  {
   "cell_type": "raw",
   "id": "68ef30ca",
   "metadata": {},
   "source": [
    "Write raw LaTeX or other formats here, for use with nbconvert. It will not be rendered in the notebook. When passing through nbconvert, a Raw Cell's content is added to the output unmodified.\n"
   ]
  },
  {
   "cell_type": "code",
   "execution_count": 1,
   "id": "1c683b97",
   "metadata": {},
   "outputs": [],
   "source": [
    "import pandas as pd\n",
    "import numpy as np"
   ]
  },
  {
   "cell_type": "code",
   "execution_count": null,
   "id": "a5124152",
   "metadata": {},
   "outputs": [],
   "source": [
    "basics = pd.read_csv(\"C:\\\\Users\\\\alackey\\\\Downloads\\\\title.basics.tsv.gz\",sep='\\t', low_memory=False)\n",
    "ratings = pd.read_csv(\"C:\\\\Users\\\\alackey\\\\Downloads\\\\title.ratings.tsv.gz\",sep='\\t', low_memory=False)\n",
    "akas = pd.read_csv(\"C:\\\\Users\\\\alackey\\\\Downloads\\\\title.akas.tsv.gz\",sep='\\t', low_memory=False)"
   ]
  },
  {
   "cell_type": "code",
   "execution_count": null,
   "id": "b0f7b735",
   "metadata": {},
   "outputs": [],
   "source": [
    "basics.head()"
   ]
  },
  {
   "cell_type": "code",
   "execution_count": null,
   "id": "1e1b788c",
   "metadata": {},
   "outputs": [],
   "source": [
    "ratings.head()"
   ]
  },
  {
   "cell_type": "code",
   "execution_count": null,
   "id": "53ac9f6d",
   "metadata": {},
   "outputs": [],
   "source": [
    "akas.head()"
   ]
  },
  {
   "cell_type": "code",
   "execution_count": null,
   "id": "abee67a1",
   "metadata": {},
   "outputs": [],
   "source": [
    "basics.replace({'\\\\N':np.nan}, inplace=True)"
   ]
  },
  {
   "cell_type": "code",
   "execution_count": null,
   "id": "3ae6d12f",
   "metadata": {},
   "outputs": [],
   "source": [
    "ratings.replace({'\\\\N':np.nan}, inplace=True)"
   ]
  },
  {
   "cell_type": "code",
   "execution_count": null,
   "id": "1a3b67e1",
   "metadata": {},
   "outputs": [],
   "source": [
    "akas.replace({'\\\\N':np.nan}, inplace=True)"
   ]
  },
  {
   "cell_type": "code",
   "execution_count": null,
   "id": "f18e3ecf",
   "metadata": {},
   "outputs": [],
   "source": [
    "basics.dropna(subset=['runtimeMinutes', 'genres'], inplace=True)"
   ]
  },
  {
   "cell_type": "code",
   "execution_count": null,
   "id": "d3f5d02c",
   "metadata": {},
   "outputs": [],
   "source": [
    "basics['titleType'].value_counts()"
   ]
  },
  {
   "cell_type": "code",
   "execution_count": null,
   "id": "b9d97782",
   "metadata": {},
   "outputs": [],
   "source": [
    "basics = basics[basics['titleType']=='movie']"
   ]
  },
  {
   "cell_type": "code",
   "execution_count": null,
   "id": "b861b70f",
   "metadata": {},
   "outputs": [],
   "source": [
    "basics['startYear'].value_counts()"
   ]
  },
  {
   "cell_type": "code",
   "execution_count": null,
   "id": "075c319e",
   "metadata": {},
   "outputs": [],
   "source": [
    "basics = basics[basics['startYear']>'1999']"
   ]
  },
  {
   "cell_type": "code",
   "execution_count": null,
   "id": "2087b0b8",
   "metadata": {},
   "outputs": [],
   "source": [
    "basics.head()"
   ]
  },
  {
   "cell_type": "code",
   "execution_count": null,
   "id": "65c3cc35",
   "metadata": {},
   "outputs": [],
   "source": [
    "basics = basics[basics['genres'] != 'Documentary']"
   ]
  },
  {
   "cell_type": "code",
   "execution_count": null,
   "id": "73a5264f",
   "metadata": {},
   "outputs": [],
   "source": [
    "basics.head()"
   ]
  },
  {
   "cell_type": "code",
   "execution_count": null,
   "id": "0114445d",
   "metadata": {},
   "outputs": [],
   "source": [
    "akas = akas[akas['region'] == 'US']"
   ]
  },
  {
   "cell_type": "code",
   "execution_count": null,
   "id": "f6595bc9",
   "metadata": {},
   "outputs": [],
   "source": [
    "akas"
   ]
  },
  {
   "cell_type": "code",
   "execution_count": null,
   "id": "267d7db9",
   "metadata": {},
   "outputs": [],
   "source": []
  }
 ],
 "metadata": {
  "kernelspec": {
   "display_name": "Python (dojo-env)",
   "language": "python",
   "name": "dojo-env"
  },
  "language_info": {
   "codemirror_mode": {
    "name": "ipython",
    "version": 3
   },
   "file_extension": ".py",
   "mimetype": "text/x-python",
   "name": "python",
   "nbconvert_exporter": "python",
   "pygments_lexer": "ipython3",
   "version": "3.8.13"
  },
  "toc": {
   "base_numbering": 1,
   "nav_menu": {},
   "number_sections": true,
   "sideBar": true,
   "skip_h1_title": false,
   "title_cell": "Table of Contents",
   "title_sidebar": "Contents",
   "toc_cell": false,
   "toc_position": {},
   "toc_section_display": true,
   "toc_window_display": false
  }
 },
 "nbformat": 4,
 "nbformat_minor": 5
}
